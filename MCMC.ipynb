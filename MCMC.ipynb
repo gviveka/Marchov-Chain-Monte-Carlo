{
 "cells": [
  {
   "cell_type": "markdown",
   "metadata": {
    "collapsed": true
   },
   "source": [
    "###    This code is implementation of Markov chain Monte Carlo method for converging to a low energy state of Methane molecule.The initial geometry of methane(CH4) is read from a file(can be assigned randomly with appropriate constraints). Convergence is achieved with different rate depending upon a \"kt\" parameter used to calculate acceptance probability.The Final geometry,bond angle and bond length are printed to std OUT.\\Graph of energy at every 1000 iterations is plotted.\n"
   ]
  },
  {
   "cell_type": "code",
   "execution_count": 1,
   "metadata": {
    "collapsed": true
   },
   "outputs": [],
   "source": [
    "import math\n",
    "import matplotlib.pyplot as plot\n",
    "import random\n",
    "from itertools import combinations"
   ]
  },
  {
   "cell_type": "code",
   "execution_count": 2,
   "metadata": {},
   "outputs": [],
   "source": [
    "def dot(x,y):\n",
    "    #dot product of two vectors\n",
    "    z=(x[0]*y[0]+x[1]*y[1]+x[2]*y[2])\n",
    "    return(z)\n",
    "def mod(x):\n",
    "    #modulus\n",
    "    z=(x[0]**2+x[1]**2+x[2]**2)**0.5\n",
    "    return(z)\n",
    "def ang(x,y):\n",
    "    #angle between vectors\n",
    "    ba=math.degrees(math.acos(dot(x,y)/(mod(x)*mod(y))))\n",
    "    return(ba)    \n",
    "def dis(x,y):\n",
    "    #distance between two points\n",
    "    d=((x[0]-y[0])**2+(x[1]-y[1])**2+(x[2]-y[2])**2)**0.5\n",
    "    return(d)\n",
    "\n",
    "def energy(c,h1,h2,h3,h4):\n",
    "    #energy at a particular state of methane molecule\n",
    "    d1=dis(c,h1)\n",
    "    d2=dis(c,h2)\n",
    "    d3=dis(c,h3)\n",
    "    d4=dis(c,h4)\n",
    "    r=float(1.08)\n",
    "    t=float(109.5)\n",
    "    e=367.0/2*((d1-r)**2+(d2-r)**2+(d3-r)**2+(d4-r)**2)\n",
    "    for i,j in combinations([h1,h2,h3,h4],2):\n",
    "        e+=35.0/2*((ang(i,j)-t)**2)\n",
    "    return(e)\n",
    "def probabilityOfAccept(e1,e2,kt):\n",
    "    p=math.exp((e1-e2)/kt)\n",
    "    return(min(1,p))\n"
   ]
  },
  {
   "cell_type": "code",
   "execution_count": 3,
   "metadata": {
    "collapsed": true
   },
   "outputs": [],
   "source": [
    "#Read file from directory\n",
    "pdb =open('C:/course work/689/A2/methane_start.pdb')\n",
    "\n",
    "#Read from file \n",
    "coordinate={}\n",
    "for line in pdb:\n",
    "    lst=line.split()\n",
    "    coordinate[lst[2]]=list(map(float,lst[5:8]))"
   ]
  },
  {
   "cell_type": "code",
   "execution_count": 4,
   "metadata": {
    "collapsed": true
   },
   "outputs": [],
   "source": [
    "\n",
    "kt=[0.4,0.6,0.8]         #parameter in calculation of acceptance probability\n",
    "maxloop=100000\n",
    "stepsize=0.003\n",
    "energystate=[[] for _ in range(len(kt))]\n",
    "initialEnergy=energy(coordinate[\"C\"],coordinate[\"H1\"],coordinate[\"H2\"],coordinate[\"H3\"],coordinate[\"H4\"])"
   ]
  },
  {
   "cell_type": "code",
   "execution_count": 5,
   "metadata": {},
   "outputs": [
    {
     "name": "stdout",
     "output_type": "stream",
     "text": [
      "For parameter kt= 0.4\n",
      "Confrmation Geometry of Methane: {'C': [0.0, 0.0, 0.0], 'H1': [0.20478330281174592, 0.16204787983442143, 0.9869264580296752], 'H2': [0.4641470831144192, 0.7734227029456792, -0.5980211817877846], 'H3': [0.39120464619727, -0.9683378916662899, -0.2967825802449074], 'H4': [-1.0819628479333994, 0.021484526503064285, -0.15573048926813546]}\n",
      "Bond Angle: 109.55586380895738     Bond Length: 1.0822405121146974\n",
      "For parameter kt= 0.6\n",
      "Confrmation Geometry of Methane: {'C': [0.0, 0.0, 0.0], 'H1': [0.03238173948461285, 0.5955442958711544, 1.0028522039624128], 'H2': [0.1791813521441124, 0.6701786103371119, -0.6729025390757623], 'H3': [0.38758016619046676, -0.9660583979617611, -0.29506317794637166], 'H4': [-0.7953729945011854, 0.25843896267819605, -0.5310429081175906]}\n",
      "Bond Angle: 103.84770257326755     Bond Length: 0.9664590802533662\n",
      "For parameter kt= 0.8\n",
      "Confrmation Geometry of Methane: {'C': [0.0, 0.0, 0.0], 'H1': [0.07134296681841298, 0.2557457511094915, 1.0234421934032423], 'H2': [0.6016101543487967, 0.6612460900338641, -0.5710260641052769], 'H3': [0.34832163202659944, -1.0376430575027804, -0.1419264581209868], 'H4': [-1.148865263735935, 0.09778254866680201, -0.35522057787283473]}\n",
      "Bond Angle: 109.39099657805924     Bond Length: 1.0607789285653348\n"
     ]
    }
   ],
   "source": [
    "for par in range(len(kt)):\n",
    "\n",
    "    #parameter loop variables\n",
    "    energylist=[]\n",
    "    energylist.append(initialEnergy)\n",
    "    finalEnergy=initialEnergy\n",
    "    temp=coordinate.copy()\n",
    "    final=temp.copy()\n",
    "\n",
    "    #convergence loop to confirmation geometry\n",
    "    for i in range(1,maxloop):\n",
    "        select=random.choice([\"H1\",\"H2\",\"H3\",\"H4\"])\n",
    "        for j in range(3):\n",
    "            temp[select][j]=final[select][j]+random.uniform(-stepsize,stepsize)\n",
    "        energylist.append(energy(temp[\"C\"],temp[\"H1\"],temp[\"H2\"],temp[\"H3\"],temp[\"H4\"]))\n",
    "        if energylist[i]<finalEnergy:\n",
    "            finalEnergy=energylist[i]\n",
    "            final[select]=temp[select][:]                 \n",
    "        elif random.uniform(0,1)<probabilityOfAccept(finalEnergy,energylist[i],kt[par]):\n",
    "            finalEnergy=energylist[i]\n",
    "            final[select]=temp[select][:]\n",
    "        if i%1000==0:\n",
    "            energystate[par].append(energylist[i])\n",
    "\n",
    "    #Outputvariable\n",
    "    print(\"For parameter kt=\",kt[par])\n",
    "    print(\"Confrmation Geometry of Methane:\",final)\n",
    "    print(\"Bond Angle:\",ang(final[\"H1\"],final[\"H2\"]),\"   \",\"Bond Length:\",mod(final[\"H2\"]))\n",
    "    plot.plot(energystate[par],label=kt[par])\n"
   ]
  },
  {
   "cell_type": "code",
   "execution_count": 6,
   "metadata": {},
   "outputs": [
    {
     "data": {
      "image/png": "[encoded data removed]",
      "text/plain": [
       "<matplotlib.figure.Figure at 0x19a8663cd68>"
      ]
     },
     "metadata": {},
     "output_type": "display_data"
    }
   ],
   "source": [
    "plot.show()"
   ]
  }
 ],
 "metadata": {
  "kernelspec": {
   "display_name": "Python 3",
   "language": "python",
   "name": "python3"
  },
  "language_info": {
   "codemirror_mode": {
    "name": "ipython",
    "version": 3
   },
   "file_extension": ".py",
   "mimetype": "text/x-python",
   "name": "python",
   "nbconvert_exporter": "python",
   "pygments_lexer": "ipython3",
   "version": "3.6.3"
  }
 },
 "nbformat": 4,
 "nbformat_minor": 2
}
